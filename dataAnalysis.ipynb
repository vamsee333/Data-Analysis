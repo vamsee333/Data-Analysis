{
 "cells": [
  {
   "cell_type": "code",
   "execution_count": 1,
   "metadata": {},
   "outputs": [],
   "source": [
    "import pandas as pd\n",
    "import numpy as np\n",
    "import seaborn as sns"
   ]
  },
  {
   "cell_type": "code",
   "execution_count": 33,
   "metadata": {},
   "outputs": [],
   "source": [
    "customers = pd.read_excel(\"CUSTOMERS.xlsx\")\n",
    "employees = pd.read_excel(\"EMPLOYEES.XLSX\")\n",
    "items = pd.read_excel(\"ITEMS.XLSX\")\n",
    "orderInfo = pd.read_excel(\"ORDERINFO.XLSX\")\n",
    "orders = pd.read_excel(\"ORDERS.XLSX\")"
   ]
  },
  {
   "cell_type": "code",
   "execution_count": 3,
   "metadata": {},
   "outputs": [
    {
     "name": "stdout",
     "output_type": "stream",
     "text": [
      "Index(['Customer ID', 'Title', 'First Name', 'Last Name'], dtype='object')\n",
      "Index(['Employee Code', 'First Name', 'Last Name'], dtype='object')\n",
      "Index(['Item No', 'CD ROM Title', 'Cost Price', 'Nominal Sale Price'], dtype='object')\n",
      "Index(['Order No', 'Item No', 'Quantity'], dtype='object')\n",
      "Index(['Order No', 'Customer ID', 'Employee Code', 'Order Date',\n",
      "       'Dispatch Date', 'total'],\n",
      "      dtype='object')\n"
     ]
    }
   ],
   "source": [
    "print(customers.columns)\n",
    "print(employees.columns)\n",
    "print(items.columns)\n",
    "print(orderInfo.columns)\n",
    "print(orders.columns)"
   ]
  },
  {
   "cell_type": "code",
   "execution_count": 36,
   "metadata": {},
   "outputs": [
    {
     "data": {
      "text/html": [
       "<div>\n",
       "<style scoped>\n",
       "    .dataframe tbody tr th:only-of-type {\n",
       "        vertical-align: middle;\n",
       "    }\n",
       "\n",
       "    .dataframe tbody tr th {\n",
       "        vertical-align: top;\n",
       "    }\n",
       "\n",
       "    .dataframe thead th {\n",
       "        text-align: right;\n",
       "    }\n",
       "</style>\n",
       "<table border=\"1\" class=\"dataframe\">\n",
       "  <thead>\n",
       "    <tr style=\"text-align: right;\">\n",
       "      <th></th>\n",
       "      <th>Order No</th>\n",
       "      <th>Item No</th>\n",
       "      <th>Quantity</th>\n",
       "    </tr>\n",
       "  </thead>\n",
       "  <tbody>\n",
       "    <tr>\n",
       "      <th>0</th>\n",
       "      <td>1</td>\n",
       "      <td>68</td>\n",
       "      <td>1</td>\n",
       "    </tr>\n",
       "    <tr>\n",
       "      <th>1</th>\n",
       "      <td>1</td>\n",
       "      <td>99</td>\n",
       "      <td>1</td>\n",
       "    </tr>\n",
       "    <tr>\n",
       "      <th>2</th>\n",
       "      <td>1</td>\n",
       "      <td>119</td>\n",
       "      <td>1</td>\n",
       "    </tr>\n",
       "    <tr>\n",
       "      <th>3</th>\n",
       "      <td>2</td>\n",
       "      <td>36</td>\n",
       "      <td>1</td>\n",
       "    </tr>\n",
       "    <tr>\n",
       "      <th>4</th>\n",
       "      <td>2</td>\n",
       "      <td>101</td>\n",
       "      <td>1</td>\n",
       "    </tr>\n",
       "  </tbody>\n",
       "</table>\n",
       "</div>"
      ],
      "text/plain": [
       "   Order No  Item No  Quantity\n",
       "0         1       68         1\n",
       "1         1       99         1\n",
       "2         1      119         1\n",
       "3         2       36         1\n",
       "4         2      101         1"
      ]
     },
     "execution_count": 36,
     "metadata": {},
     "output_type": "execute_result"
    }
   ],
   "source": [
    "orderInfo.head()"
   ]
  },
  {
   "cell_type": "code",
   "execution_count": 53,
   "metadata": {},
   "outputs": [
    {
     "data": {
      "text/plain": [
       "150"
      ]
     },
     "execution_count": 53,
     "metadata": {},
     "output_type": "execute_result"
    }
   ],
   "source": [
    "orderInfo[\"Item No\"].unique().size"
   ]
  },
  {
   "cell_type": "code",
   "execution_count": 55,
   "metadata": {},
   "outputs": [
    {
     "data": {
      "text/plain": [
       "461840"
      ]
     },
     "execution_count": 55,
     "metadata": {},
     "output_type": "execute_result"
    }
   ],
   "source": [
    "orderInfo[\"Item No\"].size"
   ]
  },
  {
   "cell_type": "code",
   "execution_count": 44,
   "metadata": {},
   "outputs": [
    {
     "data": {
      "text/html": [
       "<div>\n",
       "<style scoped>\n",
       "    .dataframe tbody tr th:only-of-type {\n",
       "        vertical-align: middle;\n",
       "    }\n",
       "\n",
       "    .dataframe tbody tr th {\n",
       "        vertical-align: top;\n",
       "    }\n",
       "\n",
       "    .dataframe thead th {\n",
       "        text-align: right;\n",
       "    }\n",
       "</style>\n",
       "<table border=\"1\" class=\"dataframe\">\n",
       "  <thead>\n",
       "    <tr style=\"text-align: right;\">\n",
       "      <th></th>\n",
       "      <th>Order No</th>\n",
       "      <th>Item No</th>\n",
       "      <th>Quantity</th>\n",
       "    </tr>\n",
       "  </thead>\n",
       "  <tbody>\n",
       "    <tr>\n",
       "      <th>16</th>\n",
       "      <td>6</td>\n",
       "      <td>105</td>\n",
       "      <td>2</td>\n",
       "    </tr>\n",
       "    <tr>\n",
       "      <th>25</th>\n",
       "      <td>10</td>\n",
       "      <td>104</td>\n",
       "      <td>3</td>\n",
       "    </tr>\n",
       "    <tr>\n",
       "      <th>66</th>\n",
       "      <td>23</td>\n",
       "      <td>145</td>\n",
       "      <td>2</td>\n",
       "    </tr>\n",
       "    <tr>\n",
       "      <th>94</th>\n",
       "      <td>32</td>\n",
       "      <td>15</td>\n",
       "      <td>2</td>\n",
       "    </tr>\n",
       "    <tr>\n",
       "      <th>132</th>\n",
       "      <td>45</td>\n",
       "      <td>141</td>\n",
       "      <td>2</td>\n",
       "    </tr>\n",
       "    <tr>\n",
       "      <th>...</th>\n",
       "      <td>...</td>\n",
       "      <td>...</td>\n",
       "      <td>...</td>\n",
       "    </tr>\n",
       "    <tr>\n",
       "      <th>461656</th>\n",
       "      <td>149941</td>\n",
       "      <td>4</td>\n",
       "      <td>2</td>\n",
       "    </tr>\n",
       "    <tr>\n",
       "      <th>461686</th>\n",
       "      <td>149949</td>\n",
       "      <td>39</td>\n",
       "      <td>3</td>\n",
       "    </tr>\n",
       "    <tr>\n",
       "      <th>461738</th>\n",
       "      <td>149968</td>\n",
       "      <td>120</td>\n",
       "      <td>3</td>\n",
       "    </tr>\n",
       "    <tr>\n",
       "      <th>461814</th>\n",
       "      <td>149994</td>\n",
       "      <td>38</td>\n",
       "      <td>2</td>\n",
       "    </tr>\n",
       "    <tr>\n",
       "      <th>461826</th>\n",
       "      <td>149999</td>\n",
       "      <td>22</td>\n",
       "      <td>2</td>\n",
       "    </tr>\n",
       "  </tbody>\n",
       "</table>\n",
       "<p>13807 rows × 3 columns</p>\n",
       "</div>"
      ],
      "text/plain": [
       "        Order No  Item No  Quantity\n",
       "16             6      105         2\n",
       "25            10      104         3\n",
       "66            23      145         2\n",
       "94            32       15         2\n",
       "132           45      141         2\n",
       "...          ...      ...       ...\n",
       "461656    149941        4         2\n",
       "461686    149949       39         3\n",
       "461738    149968      120         3\n",
       "461814    149994       38         2\n",
       "461826    149999       22         2\n",
       "\n",
       "[13807 rows x 3 columns]"
      ]
     },
     "execution_count": 44,
     "metadata": {},
     "output_type": "execute_result"
    }
   ],
   "source": [
    "orderInfo.loc[orderInfo.Quantity>1]"
   ]
  },
  {
   "cell_type": "code",
   "execution_count": 46,
   "metadata": {},
   "outputs": [
    {
     "data": {
      "text/html": [
       "<div>\n",
       "<style scoped>\n",
       "    .dataframe tbody tr th:only-of-type {\n",
       "        vertical-align: middle;\n",
       "    }\n",
       "\n",
       "    .dataframe tbody tr th {\n",
       "        vertical-align: top;\n",
       "    }\n",
       "\n",
       "    .dataframe thead th {\n",
       "        text-align: right;\n",
       "    }\n",
       "</style>\n",
       "<table border=\"1\" class=\"dataframe\">\n",
       "  <thead>\n",
       "    <tr style=\"text-align: right;\">\n",
       "      <th></th>\n",
       "      <th>Order No</th>\n",
       "      <th>Customer ID</th>\n",
       "      <th>Employee Code</th>\n",
       "      <th>Order Date</th>\n",
       "      <th>Dispatch Date</th>\n",
       "      <th>total</th>\n",
       "    </tr>\n",
       "  </thead>\n",
       "  <tbody>\n",
       "    <tr>\n",
       "      <th>21</th>\n",
       "      <td>23</td>\n",
       "      <td>1154</td>\n",
       "      <td>3</td>\n",
       "      <td>2010-02-22</td>\n",
       "      <td>2010-02-23</td>\n",
       "      <td>94.05</td>\n",
       "    </tr>\n",
       "  </tbody>\n",
       "</table>\n",
       "</div>"
      ],
      "text/plain": [
       "    Order No  Customer ID  Employee Code Order Date Dispatch Date  total\n",
       "21        23         1154              3 2010-02-22    2010-02-23  94.05"
      ]
     },
     "execution_count": 46,
     "metadata": {},
     "output_type": "execute_result"
    }
   ],
   "source": [
    "orders[orders[\"Order No\"]==23]"
   ]
  },
  {
   "cell_type": "code",
   "execution_count": 47,
   "metadata": {},
   "outputs": [
    {
     "data": {
      "text/html": [
       "<div>\n",
       "<style scoped>\n",
       "    .dataframe tbody tr th:only-of-type {\n",
       "        vertical-align: middle;\n",
       "    }\n",
       "\n",
       "    .dataframe tbody tr th {\n",
       "        vertical-align: top;\n",
       "    }\n",
       "\n",
       "    .dataframe thead th {\n",
       "        text-align: right;\n",
       "    }\n",
       "</style>\n",
       "<table border=\"1\" class=\"dataframe\">\n",
       "  <thead>\n",
       "    <tr style=\"text-align: right;\">\n",
       "      <th></th>\n",
       "      <th>Order No</th>\n",
       "      <th>Item No</th>\n",
       "      <th>Quantity</th>\n",
       "    </tr>\n",
       "  </thead>\n",
       "  <tbody>\n",
       "    <tr>\n",
       "      <th>64</th>\n",
       "      <td>23</td>\n",
       "      <td>99</td>\n",
       "      <td>1</td>\n",
       "    </tr>\n",
       "    <tr>\n",
       "      <th>65</th>\n",
       "      <td>23</td>\n",
       "      <td>141</td>\n",
       "      <td>1</td>\n",
       "    </tr>\n",
       "    <tr>\n",
       "      <th>66</th>\n",
       "      <td>23</td>\n",
       "      <td>145</td>\n",
       "      <td>2</td>\n",
       "    </tr>\n",
       "  </tbody>\n",
       "</table>\n",
       "</div>"
      ],
      "text/plain": [
       "    Order No  Item No  Quantity\n",
       "64        23       99         1\n",
       "65        23      141         1\n",
       "66        23      145         2"
      ]
     },
     "execution_count": 47,
     "metadata": {},
     "output_type": "execute_result"
    }
   ],
   "source": [
    "orderInfo[orderInfo[\"Order No\"]==23]"
   ]
  },
  {
   "cell_type": "code",
   "execution_count": 37,
   "metadata": {},
   "outputs": [
    {
     "data": {
      "text/html": [
       "<div>\n",
       "<style scoped>\n",
       "    .dataframe tbody tr th:only-of-type {\n",
       "        vertical-align: middle;\n",
       "    }\n",
       "\n",
       "    .dataframe tbody tr th {\n",
       "        vertical-align: top;\n",
       "    }\n",
       "\n",
       "    .dataframe thead th {\n",
       "        text-align: right;\n",
       "    }\n",
       "</style>\n",
       "<table border=\"1\" class=\"dataframe\">\n",
       "  <thead>\n",
       "    <tr style=\"text-align: right;\">\n",
       "      <th></th>\n",
       "      <th>Order No</th>\n",
       "      <th>Customer ID</th>\n",
       "      <th>Employee Code</th>\n",
       "      <th>Order Date</th>\n",
       "      <th>Dispatch Date</th>\n",
       "      <th>total</th>\n",
       "    </tr>\n",
       "  </thead>\n",
       "  <tbody>\n",
       "    <tr>\n",
       "      <th>0</th>\n",
       "      <td>1</td>\n",
       "      <td>3843</td>\n",
       "      <td>53</td>\n",
       "      <td>2010-02-22</td>\n",
       "      <td>2010-03-01</td>\n",
       "      <td>49.53</td>\n",
       "    </tr>\n",
       "    <tr>\n",
       "      <th>1</th>\n",
       "      <td>2</td>\n",
       "      <td>1733</td>\n",
       "      <td>167</td>\n",
       "      <td>2010-02-22</td>\n",
       "      <td>2010-02-23</td>\n",
       "      <td>34.58</td>\n",
       "    </tr>\n",
       "    <tr>\n",
       "      <th>2</th>\n",
       "      <td>3</td>\n",
       "      <td>5739</td>\n",
       "      <td>73</td>\n",
       "      <td>2010-02-22</td>\n",
       "      <td>2010-03-03</td>\n",
       "      <td>49.29</td>\n",
       "    </tr>\n",
       "    <tr>\n",
       "      <th>3</th>\n",
       "      <td>4</td>\n",
       "      <td>7706</td>\n",
       "      <td>9</td>\n",
       "      <td>2010-02-22</td>\n",
       "      <td>2010-03-01</td>\n",
       "      <td>34.30</td>\n",
       "    </tr>\n",
       "    <tr>\n",
       "      <th>4</th>\n",
       "      <td>5</td>\n",
       "      <td>5176</td>\n",
       "      <td>168</td>\n",
       "      <td>2010-02-22</td>\n",
       "      <td>2010-03-08</td>\n",
       "      <td>34.77</td>\n",
       "    </tr>\n",
       "  </tbody>\n",
       "</table>\n",
       "</div>"
      ],
      "text/plain": [
       "   Order No  Customer ID  Employee Code Order Date Dispatch Date  total\n",
       "0         1         3843             53 2010-02-22    2010-03-01  49.53\n",
       "1         2         1733            167 2010-02-22    2010-02-23  34.58\n",
       "2         3         5739             73 2010-02-22    2010-03-03  49.29\n",
       "3         4         7706              9 2010-02-22    2010-03-01  34.30\n",
       "4         5         5176            168 2010-02-22    2010-03-08  34.77"
      ]
     },
     "execution_count": 37,
     "metadata": {},
     "output_type": "execute_result"
    }
   ],
   "source": [
    "orders.head()"
   ]
  },
  {
   "cell_type": "code",
   "execution_count": null,
   "metadata": {},
   "outputs": [],
   "source": []
  },
  {
   "cell_type": "code",
   "execution_count": 38,
   "metadata": {},
   "outputs": [
    {
     "data": {
      "text/html": [
       "<div>\n",
       "<style scoped>\n",
       "    .dataframe tbody tr th:only-of-type {\n",
       "        vertical-align: middle;\n",
       "    }\n",
       "\n",
       "    .dataframe tbody tr th {\n",
       "        vertical-align: top;\n",
       "    }\n",
       "\n",
       "    .dataframe thead th {\n",
       "        text-align: right;\n",
       "    }\n",
       "</style>\n",
       "<table border=\"1\" class=\"dataframe\">\n",
       "  <thead>\n",
       "    <tr style=\"text-align: right;\">\n",
       "      <th></th>\n",
       "      <th>Item No</th>\n",
       "      <th>CD ROM Title</th>\n",
       "      <th>Cost Price</th>\n",
       "      <th>Nominal Sale Price</th>\n",
       "    </tr>\n",
       "  </thead>\n",
       "  <tbody>\n",
       "    <tr>\n",
       "      <th>0</th>\n",
       "      <td>1</td>\n",
       "      <td>He lives to fish</td>\n",
       "      <td>14.675622</td>\n",
       "      <td>14.891067</td>\n",
       "    </tr>\n",
       "    <tr>\n",
       "      <th>1</th>\n",
       "      <td>2</td>\n",
       "      <td>He fishes to live</td>\n",
       "      <td>24.148495</td>\n",
       "      <td>25.236653</td>\n",
       "    </tr>\n",
       "    <tr>\n",
       "      <th>2</th>\n",
       "      <td>3</td>\n",
       "      <td>Eating well</td>\n",
       "      <td>21.446596</td>\n",
       "      <td>23.569391</td>\n",
       "    </tr>\n",
       "    <tr>\n",
       "      <th>3</th>\n",
       "      <td>4</td>\n",
       "      <td>Advanced programming</td>\n",
       "      <td>18.009628</td>\n",
       "      <td>19.066674</td>\n",
       "    </tr>\n",
       "    <tr>\n",
       "      <th>4</th>\n",
       "      <td>5</td>\n",
       "      <td>Bridge building as a hobby</td>\n",
       "      <td>12.498061</td>\n",
       "      <td>12.698721</td>\n",
       "    </tr>\n",
       "  </tbody>\n",
       "</table>\n",
       "</div>"
      ],
      "text/plain": [
       "   Item No                CD ROM Title  Cost Price  Nominal Sale Price\n",
       "0        1            He lives to fish   14.675622           14.891067\n",
       "1        2           He fishes to live   24.148495           25.236653\n",
       "2        3                 Eating well   21.446596           23.569391\n",
       "3        4        Advanced programming   18.009628           19.066674\n",
       "4        5  Bridge building as a hobby   12.498061           12.698721"
      ]
     },
     "execution_count": 38,
     "metadata": {},
     "output_type": "execute_result"
    }
   ],
   "source": [
    "items.head()"
   ]
  },
  {
   "cell_type": "code",
   "execution_count": 39,
   "metadata": {},
   "outputs": [
    {
     "data": {
      "text/html": [
       "<div>\n",
       "<style scoped>\n",
       "    .dataframe tbody tr th:only-of-type {\n",
       "        vertical-align: middle;\n",
       "    }\n",
       "\n",
       "    .dataframe tbody tr th {\n",
       "        vertical-align: top;\n",
       "    }\n",
       "\n",
       "    .dataframe thead th {\n",
       "        text-align: right;\n",
       "    }\n",
       "</style>\n",
       "<table border=\"1\" class=\"dataframe\">\n",
       "  <thead>\n",
       "    <tr style=\"text-align: right;\">\n",
       "      <th></th>\n",
       "      <th>Employee Code</th>\n",
       "      <th>First Name</th>\n",
       "      <th>Last Name</th>\n",
       "    </tr>\n",
       "  </thead>\n",
       "  <tbody>\n",
       "    <tr>\n",
       "      <th>0</th>\n",
       "      <td>1</td>\n",
       "      <td>Helen</td>\n",
       "      <td>Ferguson</td>\n",
       "    </tr>\n",
       "    <tr>\n",
       "      <th>1</th>\n",
       "      <td>2</td>\n",
       "      <td>Catherine</td>\n",
       "      <td>Murray</td>\n",
       "    </tr>\n",
       "    <tr>\n",
       "      <th>2</th>\n",
       "      <td>3</td>\n",
       "      <td>Owen</td>\n",
       "      <td>Edwards</td>\n",
       "    </tr>\n",
       "    <tr>\n",
       "      <th>3</th>\n",
       "      <td>4</td>\n",
       "      <td>Margaret</td>\n",
       "      <td>Price</td>\n",
       "    </tr>\n",
       "    <tr>\n",
       "      <th>4</th>\n",
       "      <td>5</td>\n",
       "      <td>Emily</td>\n",
       "      <td>Smith</td>\n",
       "    </tr>\n",
       "  </tbody>\n",
       "</table>\n",
       "</div>"
      ],
      "text/plain": [
       "   Employee Code First Name Last Name\n",
       "0              1      Helen  Ferguson\n",
       "1              2  Catherine    Murray\n",
       "2              3       Owen   Edwards\n",
       "3              4   Margaret     Price\n",
       "4              5      Emily     Smith"
      ]
     },
     "execution_count": 39,
     "metadata": {},
     "output_type": "execute_result"
    }
   ],
   "source": [
    "employees.head()"
   ]
  },
  {
   "cell_type": "code",
   "execution_count": 40,
   "metadata": {},
   "outputs": [
    {
     "data": {
      "text/html": [
       "<div>\n",
       "<style scoped>\n",
       "    .dataframe tbody tr th:only-of-type {\n",
       "        vertical-align: middle;\n",
       "    }\n",
       "\n",
       "    .dataframe tbody tr th {\n",
       "        vertical-align: top;\n",
       "    }\n",
       "\n",
       "    .dataframe thead th {\n",
       "        text-align: right;\n",
       "    }\n",
       "</style>\n",
       "<table border=\"1\" class=\"dataframe\">\n",
       "  <thead>\n",
       "    <tr style=\"text-align: right;\">\n",
       "      <th></th>\n",
       "      <th>Customer ID</th>\n",
       "      <th>Title</th>\n",
       "      <th>First Name</th>\n",
       "      <th>Last Name</th>\n",
       "    </tr>\n",
       "  </thead>\n",
       "  <tbody>\n",
       "    <tr>\n",
       "      <th>0</th>\n",
       "      <td>1</td>\n",
       "      <td>Mr</td>\n",
       "      <td>Alan</td>\n",
       "      <td>Perkins</td>\n",
       "    </tr>\n",
       "    <tr>\n",
       "      <th>1</th>\n",
       "      <td>2</td>\n",
       "      <td>Mrs</td>\n",
       "      <td>May</td>\n",
       "      <td>Smith</td>\n",
       "    </tr>\n",
       "    <tr>\n",
       "      <th>2</th>\n",
       "      <td>3</td>\n",
       "      <td>Ms</td>\n",
       "      <td>Mary</td>\n",
       "      <td>Birnie</td>\n",
       "    </tr>\n",
       "    <tr>\n",
       "      <th>3</th>\n",
       "      <td>4</td>\n",
       "      <td>Ms</td>\n",
       "      <td>Lilian</td>\n",
       "      <td>Ward</td>\n",
       "    </tr>\n",
       "    <tr>\n",
       "      <th>4</th>\n",
       "      <td>5</td>\n",
       "      <td>Mr</td>\n",
       "      <td>Thomas</td>\n",
       "      <td>Johnston</td>\n",
       "    </tr>\n",
       "  </tbody>\n",
       "</table>\n",
       "</div>"
      ],
      "text/plain": [
       "   Customer ID Title First Name Last Name\n",
       "0            1    Mr       Alan   Perkins\n",
       "1            2   Mrs        May     Smith\n",
       "2            3    Ms       Mary    Birnie\n",
       "3            4    Ms     Lilian      Ward\n",
       "4            5    Mr     Thomas  Johnston"
      ]
     },
     "execution_count": 40,
     "metadata": {},
     "output_type": "execute_result"
    }
   ],
   "source": [
    "customers.head()"
   ]
  },
  {
   "cell_type": "code",
   "execution_count": 34,
   "metadata": {},
   "outputs": [
    {
     "data": {
      "text/plain": [
       "array([ 53, 167,  73,   9, 168,  96, 149, 165,  62,   7, 147,  90, 135,\n",
       "        19, 106,  55,  72,  10, 126,  84,   3, 171, 181, 152, 172,  34,\n",
       "        86,  63,  56,  97, 160,  15, 133,  35, 101,  17,  82, 161, 107,\n",
       "         6,  37, 136, 173,  54,  77, 132, 154,  29, 145, 197, 179, 108,\n",
       "        61,  66, 115,  20, 137,  22, 114, 112, 199, 140,  75,  14, 139,\n",
       "        26,  98, 129, 180,  30, 111,  48, 146,  60,  40, 143,  78,  50,\n",
       "       141, 195, 188,  21, 119,  76, 190,  43, 200, 155, 116,  51, 194,\n",
       "        71, 150,  79, 130, 174,  25,   2, 187,  45, 198, 142, 178,  38,\n",
       "        95,  13,  11, 103, 102,  70,  27, 183, 138, 123, 120, 191,  93,\n",
       "       189, 170, 148,  44,  47,  33, 182,  91, 100, 159, 110, 192,  32,\n",
       "       162, 177, 186,  39, 121, 176,  46,  64, 127,  57,  67, 196, 166,\n",
       "        31,  92, 144, 118,   5,  89, 156,  36, 175, 113,  52,  59, 185,\n",
       "       184,   8,  80, 193, 151,  87,  81,  58,  42, 105,   4, 122,  12,\n",
       "       157,  88, 134, 169,  83, 117, 131,  99, 158,   1, 124, 163,  49,\n",
       "        68,  41, 128,  85, 109, 153, 164, 125,  18,  65,  16,  74,  28,\n",
       "        23,  69,  94,  24, 104], dtype=int64)"
      ]
     },
     "execution_count": 34,
     "metadata": {},
     "output_type": "execute_result"
    }
   ],
   "source": [
    "orders[\"Employee Code\"].unique()"
   ]
  },
  {
   "cell_type": "code",
   "execution_count": 35,
   "metadata": {},
   "outputs": [
    {
     "data": {
      "text/plain": [
       "149425"
      ]
     },
     "execution_count": 35,
     "metadata": {},
     "output_type": "execute_result"
    }
   ],
   "source": [
    "orders[\"Employee Code\"].count()"
   ]
  },
  {
   "cell_type": "markdown",
   "metadata": {},
   "source": [
    "## Understanding the data"
   ]
  },
  {
   "cell_type": "code",
   "execution_count": 11,
   "metadata": {},
   "outputs": [],
   "source": [
    "import seaborn as sns"
   ]
  },
  {
   "cell_type": "code",
   "execution_count": 12,
   "metadata": {},
   "outputs": [
    {
     "data": {
      "text/html": [
       "<div>\n",
       "<style scoped>\n",
       "    .dataframe tbody tr th:only-of-type {\n",
       "        vertical-align: middle;\n",
       "    }\n",
       "\n",
       "    .dataframe tbody tr th {\n",
       "        vertical-align: top;\n",
       "    }\n",
       "\n",
       "    .dataframe thead th {\n",
       "        text-align: right;\n",
       "    }\n",
       "</style>\n",
       "<table border=\"1\" class=\"dataframe\">\n",
       "  <thead>\n",
       "    <tr style=\"text-align: right;\">\n",
       "      <th></th>\n",
       "      <th>Order No</th>\n",
       "      <th>Item No</th>\n",
       "      <th>Quantity</th>\n",
       "    </tr>\n",
       "  </thead>\n",
       "  <tbody>\n",
       "    <tr>\n",
       "      <th>0</th>\n",
       "      <td>1</td>\n",
       "      <td>68</td>\n",
       "      <td>1</td>\n",
       "    </tr>\n",
       "    <tr>\n",
       "      <th>1</th>\n",
       "      <td>1</td>\n",
       "      <td>99</td>\n",
       "      <td>1</td>\n",
       "    </tr>\n",
       "    <tr>\n",
       "      <th>2</th>\n",
       "      <td>1</td>\n",
       "      <td>119</td>\n",
       "      <td>1</td>\n",
       "    </tr>\n",
       "  </tbody>\n",
       "</table>\n",
       "</div>"
      ],
      "text/plain": [
       "   Order No  Item No  Quantity\n",
       "0         1       68         1\n",
       "1         1       99         1\n",
       "2         1      119         1"
      ]
     },
     "execution_count": 12,
     "metadata": {},
     "output_type": "execute_result"
    }
   ],
   "source": [
    "orderInfo.head(3)"
   ]
  },
  {
   "cell_type": "code",
   "execution_count": null,
   "metadata": {},
   "outputs": [],
   "source": []
  },
  {
   "cell_type": "code",
   "execution_count": 14,
   "metadata": {},
   "outputs": [
    {
     "data": {
      "text/html": [
       "<div>\n",
       "<style scoped>\n",
       "    .dataframe tbody tr th:only-of-type {\n",
       "        vertical-align: middle;\n",
       "    }\n",
       "\n",
       "    .dataframe tbody tr th {\n",
       "        vertical-align: top;\n",
       "    }\n",
       "\n",
       "    .dataframe thead th {\n",
       "        text-align: right;\n",
       "    }\n",
       "</style>\n",
       "<table border=\"1\" class=\"dataframe\">\n",
       "  <thead>\n",
       "    <tr style=\"text-align: right;\">\n",
       "      <th></th>\n",
       "      <th>Order No</th>\n",
       "      <th>Customer ID</th>\n",
       "      <th>Employee Code</th>\n",
       "      <th>Order Date</th>\n",
       "      <th>Dispatch Date</th>\n",
       "      <th>total</th>\n",
       "    </tr>\n",
       "  </thead>\n",
       "  <tbody>\n",
       "    <tr>\n",
       "      <th>0</th>\n",
       "      <td>1</td>\n",
       "      <td>3843</td>\n",
       "      <td>53</td>\n",
       "      <td>2010-02-22</td>\n",
       "      <td>2010-03-01</td>\n",
       "      <td>49.53</td>\n",
       "    </tr>\n",
       "    <tr>\n",
       "      <th>1</th>\n",
       "      <td>2</td>\n",
       "      <td>1733</td>\n",
       "      <td>167</td>\n",
       "      <td>2010-02-22</td>\n",
       "      <td>2010-02-23</td>\n",
       "      <td>34.58</td>\n",
       "    </tr>\n",
       "    <tr>\n",
       "      <th>2</th>\n",
       "      <td>3</td>\n",
       "      <td>5739</td>\n",
       "      <td>73</td>\n",
       "      <td>2010-02-22</td>\n",
       "      <td>2010-03-03</td>\n",
       "      <td>49.29</td>\n",
       "    </tr>\n",
       "    <tr>\n",
       "      <th>3</th>\n",
       "      <td>4</td>\n",
       "      <td>7706</td>\n",
       "      <td>9</td>\n",
       "      <td>2010-02-22</td>\n",
       "      <td>2010-03-01</td>\n",
       "      <td>34.30</td>\n",
       "    </tr>\n",
       "    <tr>\n",
       "      <th>4</th>\n",
       "      <td>5</td>\n",
       "      <td>5176</td>\n",
       "      <td>168</td>\n",
       "      <td>2010-02-22</td>\n",
       "      <td>2010-03-08</td>\n",
       "      <td>34.77</td>\n",
       "    </tr>\n",
       "  </tbody>\n",
       "</table>\n",
       "</div>"
      ],
      "text/plain": [
       "   Order No  Customer ID  Employee Code Order Date Dispatch Date  total\n",
       "0         1         3843             53 2010-02-22    2010-03-01  49.53\n",
       "1         2         1733            167 2010-02-22    2010-02-23  34.58\n",
       "2         3         5739             73 2010-02-22    2010-03-03  49.29\n",
       "3         4         7706              9 2010-02-22    2010-03-01  34.30\n",
       "4         5         5176            168 2010-02-22    2010-03-08  34.77"
      ]
     },
     "execution_count": 14,
     "metadata": {},
     "output_type": "execute_result"
    }
   ],
   "source": [
    "orders.head()"
   ]
  },
  {
   "cell_type": "code",
   "execution_count": 15,
   "metadata": {},
   "outputs": [
    {
     "data": {
      "text/plain": [
       "0    49.53\n",
       "Name: total, dtype: float64"
      ]
     },
     "execution_count": 15,
     "metadata": {},
     "output_type": "execute_result"
    }
   ],
   "source": [
    "orders[orders[\"Order No\"]==1]['total']"
   ]
  },
  {
   "cell_type": "code",
   "execution_count": 16,
   "metadata": {},
   "outputs": [],
   "source": [
    "items_1 = orderInfo[orderInfo[\"Order No\"]==1]['Item No']"
   ]
  },
  {
   "cell_type": "code",
   "execution_count": 17,
   "metadata": {},
   "outputs": [
    {
     "data": {
      "text/plain": [
       "0     68\n",
       "1     99\n",
       "2    119\n",
       "Name: Item No, dtype: int64"
      ]
     },
     "execution_count": 17,
     "metadata": {},
     "output_type": "execute_result"
    }
   ],
   "source": [
    "items_1"
   ]
  },
  {
   "cell_type": "code",
   "execution_count": 18,
   "metadata": {},
   "outputs": [],
   "source": [
    "res =0\n",
    "for x in items_1:\n",
    "    res = res + sum(items[items[\"Item No\"]==x][\"Nominal Sale Price\"])"
   ]
  },
  {
   "cell_type": "code",
   "execution_count": 19,
   "metadata": {},
   "outputs": [
    {
     "data": {
      "text/html": [
       "<div>\n",
       "<style scoped>\n",
       "    .dataframe tbody tr th:only-of-type {\n",
       "        vertical-align: middle;\n",
       "    }\n",
       "\n",
       "    .dataframe tbody tr th {\n",
       "        vertical-align: top;\n",
       "    }\n",
       "\n",
       "    .dataframe thead th {\n",
       "        text-align: right;\n",
       "    }\n",
       "</style>\n",
       "<table border=\"1\" class=\"dataframe\">\n",
       "  <thead>\n",
       "    <tr style=\"text-align: right;\">\n",
       "      <th></th>\n",
       "      <th>Item No</th>\n",
       "      <th>CD ROM Title</th>\n",
       "      <th>Cost Price</th>\n",
       "      <th>Nominal Sale Price</th>\n",
       "    </tr>\n",
       "  </thead>\n",
       "  <tbody>\n",
       "    <tr>\n",
       "      <th>0</th>\n",
       "      <td>1</td>\n",
       "      <td>He lives to fish</td>\n",
       "      <td>14.675622</td>\n",
       "      <td>14.891067</td>\n",
       "    </tr>\n",
       "    <tr>\n",
       "      <th>1</th>\n",
       "      <td>2</td>\n",
       "      <td>He fishes to live</td>\n",
       "      <td>24.148495</td>\n",
       "      <td>25.236653</td>\n",
       "    </tr>\n",
       "    <tr>\n",
       "      <th>2</th>\n",
       "      <td>3</td>\n",
       "      <td>Eating well</td>\n",
       "      <td>21.446596</td>\n",
       "      <td>23.569391</td>\n",
       "    </tr>\n",
       "    <tr>\n",
       "      <th>3</th>\n",
       "      <td>4</td>\n",
       "      <td>Advanced programming</td>\n",
       "      <td>18.009628</td>\n",
       "      <td>19.066674</td>\n",
       "    </tr>\n",
       "    <tr>\n",
       "      <th>4</th>\n",
       "      <td>5</td>\n",
       "      <td>Bridge building as a hobby</td>\n",
       "      <td>12.498061</td>\n",
       "      <td>12.698721</td>\n",
       "    </tr>\n",
       "  </tbody>\n",
       "</table>\n",
       "</div>"
      ],
      "text/plain": [
       "   Item No                CD ROM Title  Cost Price  Nominal Sale Price\n",
       "0        1            He lives to fish   14.675622           14.891067\n",
       "1        2           He fishes to live   24.148495           25.236653\n",
       "2        3                 Eating well   21.446596           23.569391\n",
       "3        4        Advanced programming   18.009628           19.066674\n",
       "4        5  Bridge building as a hobby   12.498061           12.698721"
      ]
     },
     "execution_count": 19,
     "metadata": {},
     "output_type": "execute_result"
    }
   ],
   "source": [
    "items.head()"
   ]
  },
  {
   "cell_type": "code",
   "execution_count": 20,
   "metadata": {},
   "outputs": [
    {
     "data": {
      "text/plain": [
       "39.2012973037017"
      ]
     },
     "execution_count": 20,
     "metadata": {},
     "output_type": "execute_result"
    }
   ],
   "source": [
    "res"
   ]
  },
  {
   "cell_type": "code",
   "execution_count": 21,
   "metadata": {},
   "outputs": [],
   "source": [
    "x = items[items[\"Item No\"]==119][\"Nominal Sale Price\"].values + items[items[\"Item No\"]==68][\"Nominal Sale Price\"].values+ items[items[\"Item No\"]==99][\"Nominal Sale Price\"].values"
   ]
  },
  {
   "cell_type": "code",
   "execution_count": 22,
   "metadata": {},
   "outputs": [
    {
     "data": {
      "text/plain": [
       "array([39.2012973])"
      ]
     },
     "execution_count": 22,
     "metadata": {},
     "output_type": "execute_result"
    }
   ],
   "source": [
    "x"
   ]
  },
  {
   "cell_type": "code",
   "execution_count": 23,
   "metadata": {},
   "outputs": [
    {
     "data": {
      "text/html": [
       "<div>\n",
       "<style scoped>\n",
       "    .dataframe tbody tr th:only-of-type {\n",
       "        vertical-align: middle;\n",
       "    }\n",
       "\n",
       "    .dataframe tbody tr th {\n",
       "        vertical-align: top;\n",
       "    }\n",
       "\n",
       "    .dataframe thead th {\n",
       "        text-align: right;\n",
       "    }\n",
       "</style>\n",
       "<table border=\"1\" class=\"dataframe\">\n",
       "  <thead>\n",
       "    <tr style=\"text-align: right;\">\n",
       "      <th></th>\n",
       "      <th>Item No</th>\n",
       "      <th>CD ROM Title</th>\n",
       "      <th>Cost Price</th>\n",
       "      <th>Nominal Sale Price</th>\n",
       "    </tr>\n",
       "  </thead>\n",
       "  <tbody>\n",
       "    <tr>\n",
       "      <th>0</th>\n",
       "      <td>1</td>\n",
       "      <td>He lives to fish</td>\n",
       "      <td>14.675622</td>\n",
       "      <td>14.891067</td>\n",
       "    </tr>\n",
       "    <tr>\n",
       "      <th>1</th>\n",
       "      <td>2</td>\n",
       "      <td>He fishes to live</td>\n",
       "      <td>24.148495</td>\n",
       "      <td>25.236653</td>\n",
       "    </tr>\n",
       "    <tr>\n",
       "      <th>2</th>\n",
       "      <td>3</td>\n",
       "      <td>Eating well</td>\n",
       "      <td>21.446596</td>\n",
       "      <td>23.569391</td>\n",
       "    </tr>\n",
       "    <tr>\n",
       "      <th>3</th>\n",
       "      <td>4</td>\n",
       "      <td>Advanced programming</td>\n",
       "      <td>18.009628</td>\n",
       "      <td>19.066674</td>\n",
       "    </tr>\n",
       "    <tr>\n",
       "      <th>4</th>\n",
       "      <td>5</td>\n",
       "      <td>Bridge building as a hobby</td>\n",
       "      <td>12.498061</td>\n",
       "      <td>12.698721</td>\n",
       "    </tr>\n",
       "    <tr>\n",
       "      <th>...</th>\n",
       "      <td>...</td>\n",
       "      <td>...</td>\n",
       "      <td>...</td>\n",
       "      <td>...</td>\n",
       "    </tr>\n",
       "    <tr>\n",
       "      <th>145</th>\n",
       "      <td>146</td>\n",
       "      <td>City Foxes</td>\n",
       "      <td>11.174949</td>\n",
       "      <td>11.613233</td>\n",
       "    </tr>\n",
       "    <tr>\n",
       "      <th>146</th>\n",
       "      <td>147</td>\n",
       "      <td>Basso profundo</td>\n",
       "      <td>21.969830</td>\n",
       "      <td>22.826450</td>\n",
       "    </tr>\n",
       "    <tr>\n",
       "      <th>147</th>\n",
       "      <td>148</td>\n",
       "      <td>The Xerafin Wars</td>\n",
       "      <td>3.285135</td>\n",
       "      <td>3.455926</td>\n",
       "    </tr>\n",
       "    <tr>\n",
       "      <th>148</th>\n",
       "      <td>149</td>\n",
       "      <td>Ophelia among the stars</td>\n",
       "      <td>5.075280</td>\n",
       "      <td>5.352100</td>\n",
       "    </tr>\n",
       "    <tr>\n",
       "      <th>149</th>\n",
       "      <td>150</td>\n",
       "      <td>Sir Nigel's Marmalade</td>\n",
       "      <td>13.258119</td>\n",
       "      <td>14.553032</td>\n",
       "    </tr>\n",
       "  </tbody>\n",
       "</table>\n",
       "<p>150 rows × 4 columns</p>\n",
       "</div>"
      ],
      "text/plain": [
       "     Item No                CD ROM Title  Cost Price  Nominal Sale Price\n",
       "0          1            He lives to fish   14.675622           14.891067\n",
       "1          2           He fishes to live   24.148495           25.236653\n",
       "2          3                 Eating well   21.446596           23.569391\n",
       "3          4        Advanced programming   18.009628           19.066674\n",
       "4          5  Bridge building as a hobby   12.498061           12.698721\n",
       "..       ...                         ...         ...                 ...\n",
       "145      146                  City Foxes   11.174949           11.613233\n",
       "146      147              Basso profundo   21.969830           22.826450\n",
       "147      148            The Xerafin Wars    3.285135            3.455926\n",
       "148      149     Ophelia among the stars    5.075280            5.352100\n",
       "149      150       Sir Nigel's Marmalade   13.258119           14.553032\n",
       "\n",
       "[150 rows x 4 columns]"
      ]
     },
     "execution_count": 23,
     "metadata": {},
     "output_type": "execute_result"
    }
   ],
   "source": [
    "items"
   ]
  },
  {
   "cell_type": "code",
   "execution_count": 24,
   "metadata": {},
   "outputs": [
    {
     "data": {
      "text/html": [
       "<div>\n",
       "<style scoped>\n",
       "    .dataframe tbody tr th:only-of-type {\n",
       "        vertical-align: middle;\n",
       "    }\n",
       "\n",
       "    .dataframe tbody tr th {\n",
       "        vertical-align: top;\n",
       "    }\n",
       "\n",
       "    .dataframe thead th {\n",
       "        text-align: right;\n",
       "    }\n",
       "</style>\n",
       "<table border=\"1\" class=\"dataframe\">\n",
       "  <thead>\n",
       "    <tr style=\"text-align: right;\">\n",
       "      <th></th>\n",
       "      <th>Order No</th>\n",
       "      <th>Customer ID</th>\n",
       "      <th>Employee Code</th>\n",
       "      <th>Order Date</th>\n",
       "      <th>Dispatch Date</th>\n",
       "      <th>total</th>\n",
       "    </tr>\n",
       "  </thead>\n",
       "  <tbody>\n",
       "    <tr>\n",
       "      <th>0</th>\n",
       "      <td>1</td>\n",
       "      <td>3843</td>\n",
       "      <td>53</td>\n",
       "      <td>2010-02-22</td>\n",
       "      <td>2010-03-01</td>\n",
       "      <td>49.53</td>\n",
       "    </tr>\n",
       "    <tr>\n",
       "      <th>1</th>\n",
       "      <td>2</td>\n",
       "      <td>1733</td>\n",
       "      <td>167</td>\n",
       "      <td>2010-02-22</td>\n",
       "      <td>2010-02-23</td>\n",
       "      <td>34.58</td>\n",
       "    </tr>\n",
       "  </tbody>\n",
       "</table>\n",
       "</div>"
      ],
      "text/plain": [
       "   Order No  Customer ID  Employee Code Order Date Dispatch Date  total\n",
       "0         1         3843             53 2010-02-22    2010-03-01  49.53\n",
       "1         2         1733            167 2010-02-22    2010-02-23  34.58"
      ]
     },
     "execution_count": 24,
     "metadata": {},
     "output_type": "execute_result"
    }
   ],
   "source": [
    "orders.head(2)"
   ]
  },
  {
   "cell_type": "code",
   "execution_count": 25,
   "metadata": {},
   "outputs": [
    {
     "data": {
      "text/plain": [
       "3      2596\n",
       "79      814\n",
       "140     801\n",
       "14      799\n",
       "6       796\n",
       "       ... \n",
       "25      654\n",
       "67      649\n",
       "23      640\n",
       "2       358\n",
       "4       343\n",
       "Name: Employee Code, Length: 200, dtype: int64"
      ]
     },
     "execution_count": 25,
     "metadata": {},
     "output_type": "execute_result"
    }
   ],
   "source": [
    "orders[\"Employee Code\"].value_counts()"
   ]
  },
  {
   "cell_type": "code",
   "execution_count": 26,
   "metadata": {},
   "outputs": [
    {
     "data": {
      "text/html": [
       "<div>\n",
       "<style scoped>\n",
       "    .dataframe tbody tr th:only-of-type {\n",
       "        vertical-align: middle;\n",
       "    }\n",
       "\n",
       "    .dataframe tbody tr th {\n",
       "        vertical-align: top;\n",
       "    }\n",
       "\n",
       "    .dataframe thead th {\n",
       "        text-align: right;\n",
       "    }\n",
       "</style>\n",
       "<table border=\"1\" class=\"dataframe\">\n",
       "  <thead>\n",
       "    <tr style=\"text-align: right;\">\n",
       "      <th></th>\n",
       "      <th>Order No</th>\n",
       "      <th>Item No</th>\n",
       "      <th>Quantity</th>\n",
       "    </tr>\n",
       "  </thead>\n",
       "  <tbody>\n",
       "    <tr>\n",
       "      <th>0</th>\n",
       "      <td>1</td>\n",
       "      <td>68</td>\n",
       "      <td>1</td>\n",
       "    </tr>\n",
       "    <tr>\n",
       "      <th>1</th>\n",
       "      <td>1</td>\n",
       "      <td>99</td>\n",
       "      <td>1</td>\n",
       "    </tr>\n",
       "    <tr>\n",
       "      <th>2</th>\n",
       "      <td>1</td>\n",
       "      <td>119</td>\n",
       "      <td>1</td>\n",
       "    </tr>\n",
       "  </tbody>\n",
       "</table>\n",
       "</div>"
      ],
      "text/plain": [
       "   Order No  Item No  Quantity\n",
       "0         1       68         1\n",
       "1         1       99         1\n",
       "2         1      119         1"
      ]
     },
     "execution_count": 26,
     "metadata": {},
     "output_type": "execute_result"
    }
   ],
   "source": [
    "orderInfo.head(3)"
   ]
  },
  {
   "cell_type": "code",
   "execution_count": 27,
   "metadata": {},
   "outputs": [
    {
     "data": {
      "text/plain": [
       "143573     True\n",
       "73921      True\n",
       "102588     True\n",
       "143809     True\n",
       "16119      True\n",
       "          ...  \n",
       "6829      False\n",
       "15333     False\n",
       "92683     False\n",
       "88589     False\n",
       "64983     False\n",
       "Name: Order No, Length: 149404, dtype: bool"
      ]
     },
     "execution_count": 27,
     "metadata": {},
     "output_type": "execute_result"
    }
   ],
   "source": [
    "orderInfo[\"Order No\"].value_counts()>1"
   ]
  },
  {
   "cell_type": "code",
   "execution_count": 28,
   "metadata": {},
   "outputs": [
    {
     "data": {
      "text/html": [
       "<div>\n",
       "<style scoped>\n",
       "    .dataframe tbody tr th:only-of-type {\n",
       "        vertical-align: middle;\n",
       "    }\n",
       "\n",
       "    .dataframe tbody tr th {\n",
       "        vertical-align: top;\n",
       "    }\n",
       "\n",
       "    .dataframe thead th {\n",
       "        text-align: right;\n",
       "    }\n",
       "</style>\n",
       "<table border=\"1\" class=\"dataframe\">\n",
       "  <thead>\n",
       "    <tr style=\"text-align: right;\">\n",
       "      <th></th>\n",
       "      <th>Order No</th>\n",
       "      <th>Customer ID</th>\n",
       "      <th>Employee Code</th>\n",
       "      <th>Order Date</th>\n",
       "      <th>Dispatch Date</th>\n",
       "      <th>total</th>\n",
       "    </tr>\n",
       "  </thead>\n",
       "  <tbody>\n",
       "    <tr>\n",
       "      <th>0</th>\n",
       "      <td>1</td>\n",
       "      <td>3843</td>\n",
       "      <td>53</td>\n",
       "      <td>2010-02-22</td>\n",
       "      <td>2010-03-01</td>\n",
       "      <td>49.53</td>\n",
       "    </tr>\n",
       "    <tr>\n",
       "      <th>1</th>\n",
       "      <td>2</td>\n",
       "      <td>1733</td>\n",
       "      <td>167</td>\n",
       "      <td>2010-02-22</td>\n",
       "      <td>2010-02-23</td>\n",
       "      <td>34.58</td>\n",
       "    </tr>\n",
       "    <tr>\n",
       "      <th>2</th>\n",
       "      <td>3</td>\n",
       "      <td>5739</td>\n",
       "      <td>73</td>\n",
       "      <td>2010-02-22</td>\n",
       "      <td>2010-03-03</td>\n",
       "      <td>49.29</td>\n",
       "    </tr>\n",
       "  </tbody>\n",
       "</table>\n",
       "</div>"
      ],
      "text/plain": [
       "   Order No  Customer ID  Employee Code Order Date Dispatch Date  total\n",
       "0         1         3843             53 2010-02-22    2010-03-01  49.53\n",
       "1         2         1733            167 2010-02-22    2010-02-23  34.58\n",
       "2         3         5739             73 2010-02-22    2010-03-03  49.29"
      ]
     },
     "execution_count": 28,
     "metadata": {},
     "output_type": "execute_result"
    }
   ],
   "source": [
    "orders.head(3)"
   ]
  },
  {
   "cell_type": "code",
   "execution_count": 29,
   "metadata": {},
   "outputs": [
    {
     "data": {
      "text/html": [
       "<div>\n",
       "<style scoped>\n",
       "    .dataframe tbody tr th:only-of-type {\n",
       "        vertical-align: middle;\n",
       "    }\n",
       "\n",
       "    .dataframe tbody tr th {\n",
       "        vertical-align: top;\n",
       "    }\n",
       "\n",
       "    .dataframe thead th {\n",
       "        text-align: right;\n",
       "    }\n",
       "</style>\n",
       "<table border=\"1\" class=\"dataframe\">\n",
       "  <thead>\n",
       "    <tr style=\"text-align: right;\">\n",
       "      <th></th>\n",
       "      <th>Order No</th>\n",
       "      <th>Customer ID</th>\n",
       "      <th>Employee Code</th>\n",
       "      <th>Order Date</th>\n",
       "      <th>Dispatch Date</th>\n",
       "      <th>total</th>\n",
       "    </tr>\n",
       "  </thead>\n",
       "  <tbody>\n",
       "    <tr>\n",
       "      <th>5047</th>\n",
       "      <td>5049</td>\n",
       "      <td>5765</td>\n",
       "      <td>3</td>\n",
       "      <td>2010-04-30</td>\n",
       "      <td>2010-05-14</td>\n",
       "      <td>274.23</td>\n",
       "    </tr>\n",
       "    <tr>\n",
       "      <th>15109</th>\n",
       "      <td>15111</td>\n",
       "      <td>7615</td>\n",
       "      <td>140</td>\n",
       "      <td>2010-09-20</td>\n",
       "      <td>2010-10-04</td>\n",
       "      <td>274.37</td>\n",
       "    </tr>\n",
       "    <tr>\n",
       "      <th>32106</th>\n",
       "      <td>32108</td>\n",
       "      <td>5273</td>\n",
       "      <td>170</td>\n",
       "      <td>2011-05-17</td>\n",
       "      <td>2011-05-27</td>\n",
       "      <td>274.43</td>\n",
       "    </tr>\n",
       "    <tr>\n",
       "      <th>53230</th>\n",
       "      <td>53232</td>\n",
       "      <td>3929</td>\n",
       "      <td>50</td>\n",
       "      <td>2012-03-08</td>\n",
       "      <td>2012-03-27</td>\n",
       "      <td>274.16</td>\n",
       "    </tr>\n",
       "  </tbody>\n",
       "</table>\n",
       "</div>"
      ],
      "text/plain": [
       "       Order No  Customer ID  Employee Code Order Date Dispatch Date   total\n",
       "5047       5049         5765              3 2010-04-30    2010-05-14  274.23\n",
       "15109     15111         7615            140 2010-09-20    2010-10-04  274.37\n",
       "32106     32108         5273            170 2011-05-17    2011-05-27  274.43\n",
       "53230     53232         3929             50 2012-03-08    2012-03-27  274.16"
      ]
     },
     "execution_count": 29,
     "metadata": {},
     "output_type": "execute_result"
    }
   ],
   "source": [
    "orders[orders.total > 270]"
   ]
  },
  {
   "cell_type": "code",
   "execution_count": 30,
   "metadata": {},
   "outputs": [
    {
     "data": {
      "text/html": [
       "<div>\n",
       "<style scoped>\n",
       "    .dataframe tbody tr th:only-of-type {\n",
       "        vertical-align: middle;\n",
       "    }\n",
       "\n",
       "    .dataframe tbody tr th {\n",
       "        vertical-align: top;\n",
       "    }\n",
       "\n",
       "    .dataframe thead th {\n",
       "        text-align: right;\n",
       "    }\n",
       "</style>\n",
       "<table border=\"1\" class=\"dataframe\">\n",
       "  <thead>\n",
       "    <tr style=\"text-align: right;\">\n",
       "      <th></th>\n",
       "      <th>Order No</th>\n",
       "      <th>Item No</th>\n",
       "      <th>Quantity</th>\n",
       "    </tr>\n",
       "  </thead>\n",
       "  <tbody>\n",
       "    <tr>\n",
       "      <th>0</th>\n",
       "      <td>1</td>\n",
       "      <td>68</td>\n",
       "      <td>1</td>\n",
       "    </tr>\n",
       "    <tr>\n",
       "      <th>1</th>\n",
       "      <td>1</td>\n",
       "      <td>99</td>\n",
       "      <td>1</td>\n",
       "    </tr>\n",
       "    <tr>\n",
       "      <th>2</th>\n",
       "      <td>1</td>\n",
       "      <td>119</td>\n",
       "      <td>1</td>\n",
       "    </tr>\n",
       "  </tbody>\n",
       "</table>\n",
       "</div>"
      ],
      "text/plain": [
       "   Order No  Item No  Quantity\n",
       "0         1       68         1\n",
       "1         1       99         1\n",
       "2         1      119         1"
      ]
     },
     "execution_count": 30,
     "metadata": {},
     "output_type": "execute_result"
    }
   ],
   "source": [
    "orderInfo.head(3)"
   ]
  },
  {
   "cell_type": "code",
   "execution_count": null,
   "metadata": {},
   "outputs": [],
   "source": []
  },
  {
   "cell_type": "code",
   "execution_count": 31,
   "metadata": {},
   "outputs": [],
   "source": [
    "mergedItems = pd.merge(orders, orderInfo, how='left', on=\"Order No\")"
   ]
  },
  {
   "cell_type": "code",
   "execution_count": 32,
   "metadata": {},
   "outputs": [
    {
     "data": {
      "text/html": [
       "<div>\n",
       "<style scoped>\n",
       "    .dataframe tbody tr th:only-of-type {\n",
       "        vertical-align: middle;\n",
       "    }\n",
       "\n",
       "    .dataframe tbody tr th {\n",
       "        vertical-align: top;\n",
       "    }\n",
       "\n",
       "    .dataframe thead th {\n",
       "        text-align: right;\n",
       "    }\n",
       "</style>\n",
       "<table border=\"1\" class=\"dataframe\">\n",
       "  <thead>\n",
       "    <tr style=\"text-align: right;\">\n",
       "      <th></th>\n",
       "      <th>Order No</th>\n",
       "      <th>Customer ID</th>\n",
       "      <th>Employee Code</th>\n",
       "      <th>Order Date</th>\n",
       "      <th>Dispatch Date</th>\n",
       "      <th>total</th>\n",
       "      <th>Item No</th>\n",
       "      <th>Quantity</th>\n",
       "    </tr>\n",
       "  </thead>\n",
       "  <tbody>\n",
       "    <tr>\n",
       "      <th>0</th>\n",
       "      <td>1</td>\n",
       "      <td>3843</td>\n",
       "      <td>53</td>\n",
       "      <td>2010-02-22</td>\n",
       "      <td>2010-03-01</td>\n",
       "      <td>49.53</td>\n",
       "      <td>68.0</td>\n",
       "      <td>1.0</td>\n",
       "    </tr>\n",
       "    <tr>\n",
       "      <th>1</th>\n",
       "      <td>1</td>\n",
       "      <td>3843</td>\n",
       "      <td>53</td>\n",
       "      <td>2010-02-22</td>\n",
       "      <td>2010-03-01</td>\n",
       "      <td>49.53</td>\n",
       "      <td>99.0</td>\n",
       "      <td>1.0</td>\n",
       "    </tr>\n",
       "    <tr>\n",
       "      <th>2</th>\n",
       "      <td>1</td>\n",
       "      <td>3843</td>\n",
       "      <td>53</td>\n",
       "      <td>2010-02-22</td>\n",
       "      <td>2010-03-01</td>\n",
       "      <td>49.53</td>\n",
       "      <td>119.0</td>\n",
       "      <td>1.0</td>\n",
       "    </tr>\n",
       "    <tr>\n",
       "      <th>3</th>\n",
       "      <td>2</td>\n",
       "      <td>1733</td>\n",
       "      <td>167</td>\n",
       "      <td>2010-02-22</td>\n",
       "      <td>2010-02-23</td>\n",
       "      <td>34.58</td>\n",
       "      <td>36.0</td>\n",
       "      <td>1.0</td>\n",
       "    </tr>\n",
       "    <tr>\n",
       "      <th>4</th>\n",
       "      <td>2</td>\n",
       "      <td>1733</td>\n",
       "      <td>167</td>\n",
       "      <td>2010-02-22</td>\n",
       "      <td>2010-02-23</td>\n",
       "      <td>34.58</td>\n",
       "      <td>101.0</td>\n",
       "      <td>1.0</td>\n",
       "    </tr>\n",
       "    <tr>\n",
       "      <th>...</th>\n",
       "      <td>...</td>\n",
       "      <td>...</td>\n",
       "      <td>...</td>\n",
       "      <td>...</td>\n",
       "      <td>...</td>\n",
       "      <td>...</td>\n",
       "      <td>...</td>\n",
       "      <td>...</td>\n",
       "    </tr>\n",
       "    <tr>\n",
       "      <th>461856</th>\n",
       "      <td>149999</td>\n",
       "      <td>2213</td>\n",
       "      <td>38</td>\n",
       "      <td>2015-11-24</td>\n",
       "      <td>2015-11-25</td>\n",
       "      <td>184.58</td>\n",
       "      <td>110.0</td>\n",
       "      <td>1.0</td>\n",
       "    </tr>\n",
       "    <tr>\n",
       "      <th>461857</th>\n",
       "      <td>150000</td>\n",
       "      <td>2649</td>\n",
       "      <td>36</td>\n",
       "      <td>2015-11-24</td>\n",
       "      <td>2015-12-14</td>\n",
       "      <td>64.37</td>\n",
       "      <td>44.0</td>\n",
       "      <td>1.0</td>\n",
       "    </tr>\n",
       "    <tr>\n",
       "      <th>461858</th>\n",
       "      <td>150000</td>\n",
       "      <td>2649</td>\n",
       "      <td>36</td>\n",
       "      <td>2015-11-24</td>\n",
       "      <td>2015-12-14</td>\n",
       "      <td>64.37</td>\n",
       "      <td>64.0</td>\n",
       "      <td>1.0</td>\n",
       "    </tr>\n",
       "    <tr>\n",
       "      <th>461859</th>\n",
       "      <td>150000</td>\n",
       "      <td>2649</td>\n",
       "      <td>36</td>\n",
       "      <td>2015-11-24</td>\n",
       "      <td>2015-12-14</td>\n",
       "      <td>64.37</td>\n",
       "      <td>117.0</td>\n",
       "      <td>1.0</td>\n",
       "    </tr>\n",
       "    <tr>\n",
       "      <th>461860</th>\n",
       "      <td>150000</td>\n",
       "      <td>2649</td>\n",
       "      <td>36</td>\n",
       "      <td>2015-11-24</td>\n",
       "      <td>2015-12-14</td>\n",
       "      <td>64.37</td>\n",
       "      <td>120.0</td>\n",
       "      <td>1.0</td>\n",
       "    </tr>\n",
       "  </tbody>\n",
       "</table>\n",
       "<p>461861 rows × 8 columns</p>\n",
       "</div>"
      ],
      "text/plain": [
       "        Order No  Customer ID  Employee Code Order Date Dispatch Date   total  \\\n",
       "0              1         3843             53 2010-02-22    2010-03-01   49.53   \n",
       "1              1         3843             53 2010-02-22    2010-03-01   49.53   \n",
       "2              1         3843             53 2010-02-22    2010-03-01   49.53   \n",
       "3              2         1733            167 2010-02-22    2010-02-23   34.58   \n",
       "4              2         1733            167 2010-02-22    2010-02-23   34.58   \n",
       "...          ...          ...            ...        ...           ...     ...   \n",
       "461856    149999         2213             38 2015-11-24    2015-11-25  184.58   \n",
       "461857    150000         2649             36 2015-11-24    2015-12-14   64.37   \n",
       "461858    150000         2649             36 2015-11-24    2015-12-14   64.37   \n",
       "461859    150000         2649             36 2015-11-24    2015-12-14   64.37   \n",
       "461860    150000         2649             36 2015-11-24    2015-12-14   64.37   \n",
       "\n",
       "        Item No  Quantity  \n",
       "0          68.0       1.0  \n",
       "1          99.0       1.0  \n",
       "2         119.0       1.0  \n",
       "3          36.0       1.0  \n",
       "4         101.0       1.0  \n",
       "...         ...       ...  \n",
       "461856    110.0       1.0  \n",
       "461857     44.0       1.0  \n",
       "461858     64.0       1.0  \n",
       "461859    117.0       1.0  \n",
       "461860    120.0       1.0  \n",
       "\n",
       "[461861 rows x 8 columns]"
      ]
     },
     "execution_count": 32,
     "metadata": {},
     "output_type": "execute_result"
    }
   ],
   "source": [
    "mergedItems"
   ]
  },
  {
   "cell_type": "code",
   "execution_count": null,
   "metadata": {},
   "outputs": [],
   "source": []
  }
 ],
 "metadata": {
  "kernelspec": {
   "display_name": "Python 3",
   "language": "python",
   "name": "python3"
  },
  "language_info": {
   "codemirror_mode": {
    "name": "ipython",
    "version": 3
   },
   "file_extension": ".py",
   "mimetype": "text/x-python",
   "name": "python",
   "nbconvert_exporter": "python",
   "pygments_lexer": "ipython3",
   "version": "3.8.5"
  }
 },
 "nbformat": 4,
 "nbformat_minor": 4
}
